{
 "cells": [
  {
   "cell_type": "code",
   "execution_count": 4,
   "metadata": {},
   "outputs": [
    {
     "name": "stdout",
     "output_type": "stream",
     "text": [
      "With Focus on Warren in Debate, Primary Race Enters New Phase\n",
      "Candidates Find New Target for Wide-Ranging Attacks\n",
      "Analysis: The attacks on Ms. Warren shouldn’t have come as a surprise.\n",
      "Senior State Dept. Ukraine Expert Says White House Sidelined Him\n",
      "Turkey Urges Kurdish Fighters to Lay Down Arms and Leave\n",
      "China Is Leasing an Entire Pacific Island. Its Residents Are Shocked.\n",
      "E.P.A. Bypassed Its West Coast Team as a Feud With California Escalated\n",
      "What It Means to Be Black, a Woman or L.G.B.T.Q. in the Gaming Industry\n",
      "Where Pugs Rule the Racetrack\n"
     ]
    }
   ],
   "source": [
    "from selenium import webdriver\n",
    "from selenium.webdriver.firefox.options import Options\n",
    "\n",
    "options = Options()\n",
    "options.headless = True\n",
    "driver = webdriver.Firefox(options=options)\n",
    "driver.get(\"https://www.nytimes.com\")\n",
    "headlines = driver.find_elements_by_class_name(\"balancedHeadline\")\n",
    "for headline in headlines:\n",
    "    print(headline.text.strip())"
   ]
  },
  {
   "cell_type": "code",
   "execution_count": null,
   "metadata": {},
   "outputs": [],
   "source": []
  }
 ],
 "metadata": {
  "kernelspec": {
   "display_name": "Python 3",
   "language": "python",
   "name": "python3"
  },
  "language_info": {
   "codemirror_mode": {
    "name": "ipython",
    "version": 3
   },
   "file_extension": ".py",
   "mimetype": "text/x-python",
   "name": "python",
   "nbconvert_exporter": "python",
   "pygments_lexer": "ipython3",
   "version": "3.7.4"
  }
 },
 "nbformat": 4,
 "nbformat_minor": 4
}
